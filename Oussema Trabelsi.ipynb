{
 "cells": [
  {
   "cell_type": "code",
   "execution_count": 1,
   "metadata": {},
   "outputs": [],
   "source": [
    "import numpy as np\n",
    "import matplotlib.pyplot as plt\n"
   ]
  },
  {
   "cell_type": "code",
   "execution_count": 2,
   "metadata": {},
   "outputs": [],
   "source": [
    "def f(x, gamma):\n",
    "\n",
    "    return np.cosh(x)+np.cos(x)-gamma\n"
   ]
  },
  {
   "cell_type": "code",
   "execution_count": 3,
   "metadata": {},
   "outputs": [],
   "source": [
    "def fn(x):\n",
    "\n",
    "    return np.cosh(x)+np.cos(x)-3\n"
   ]
  },
  {
   "cell_type": "code",
   "execution_count": 4,
   "metadata": {},
   "outputs": [
    {
     "name": "stdout",
     "output_type": "stream",
     "text": [
      "-0.9166170593166165\n"
     ]
    }
   ],
   "source": [
    "\n",
    "print(fn(1))\n"
   ]
  },
  {
   "cell_type": "code",
   "execution_count": 15,
   "metadata": {},
   "outputs": [
    {
     "data": {
      "image/png": "[encoded data removed]",
      "text/plain": [
       "<Figure size 432x288 with 1 Axes>"
      ]
     },
     "metadata": {
      "needs_background": "light"
     },
     "output_type": "display_data"
    }
   ],
   "source": [
    "x = np.linspace(-4, 4, 50)\n",
    "plt.plot(x, f(x, 1), color=\"r\")\n",
    "plt.plot(x, f(x, 2), color=\"g\")\n",
    "plt.plot(x, f(x, 3), color=\"b\")\n",
    "plt.axhline(0)\n",
    "plt.axvline(0)\n",
    "plt.show()\n"
   ]
  },
  {
   "cell_type": "markdown",
   "metadata": {},
   "source": [
    "<centre><h1>Dichotomie</h1></centre>"
   ]
  },
  {
   "cell_type": "code",
   "execution_count": 7,
   "metadata": {},
   "outputs": [],
   "source": [
    "import math\n",
    "\n",
    "\n",
    "def dichotomie(f, a, b, n, max):\n",
    "    m = math.ceil(np.log2((b-a)/n))\n",
    "    if(f(a)*f(b) > 0):\n",
    "        return \"pas de solution\"\n",
    "    for i in range(min(max, int(m))):\n",
    "        c = (a+b)/2\n",
    "        if (f(a)*f(c) < 0):\n",
    "            b = c\n",
    "        else:\n",
    "            a = c\n",
    "    return c, i\n"
   ]
  },
  {
   "cell_type": "code",
   "execution_count": 8,
   "metadata": {},
   "outputs": [
    {
     "name": "stdout",
     "output_type": "stream",
     "text": [
      "(1.8579208291501983, 50)\n"
     ]
    }
   ],
   "source": [
    "print(dichotomie(fn, 1, 3, 10**(-15), 100))\n"
   ]
  },
  {
   "cell_type": "markdown",
   "metadata": {},
   "source": [
    "<centre><h1>Newton</h1></centre>"
   ]
  },
  {
   "cell_type": "code",
   "execution_count": 9,
   "metadata": {},
   "outputs": [],
   "source": [
    "def newton(x, f, tol, maxit):\n",
    "    def fp(x): return (f(x+tol)-f(x))/tol\n",
    "    i = 0\n",
    "    while(abs(f(x)) > tol and i < maxit):\n",
    "        x = x-(f(x)/fp(x))\n",
    "        i += 1\n",
    "    if(i > maxit):\n",
    "        return(\"diverge\")\n",
    "    return (x, i)\n"
   ]
  },
  {
   "cell_type": "code",
   "execution_count": 10,
   "metadata": {},
   "outputs": [
    {
     "data": {
      "text/plain": [
       "(1.8579208291501985, 15)"
      ]
     },
     "execution_count": 10,
     "metadata": {},
     "output_type": "execute_result"
    }
   ],
   "source": [
    "newton(1, fn, 10**(-15), 100)\n"
   ]
  },
  {
   "cell_type": "markdown",
   "metadata": {},
   "source": [
    "<centre><h1>Lagrange</h1></centre>"
   ]
  },
  {
   "cell_type": "code",
   "execution_count": 11,
   "metadata": {},
   "outputs": [],
   "source": [
    "def fx(x):\n",
    "    return 2*x*np.exp(-(4*x+2))\n"
   ]
  },
  {
   "cell_type": "code",
   "execution_count": 12,
   "metadata": {},
   "outputs": [],
   "source": [
    "def lagrange(x, y, t):\n",
    "    l = []\n",
    "    p = 0\n",
    "    n = len(x)\n",
    "    for i in range(n):\n",
    "        for j in range(n):\n",
    "            if i != j:\n",
    "                l.append((t-x[j])/(x[i]-x[j]))\n",
    "        p += l[i]*y[i]\n",
    "    return p\n"
   ]
  },
  {
   "cell_type": "code",
   "execution_count": 13,
   "metadata": {},
   "outputs": [
    {
     "name": "stdout",
     "output_type": "stream",
     "text": [
      "0.017061579788804262\n"
     ]
    }
   ],
   "source": [
    "x = [0.2, 1]\n",
    "y = [fx(0.2), fx(1)]\n",
    "print(lagrange(x, y, 0.5))\n"
   ]
  },
  {
   "cell_type": "markdown",
   "metadata": {},
   "source": [
    "<centre><h1>Point fixe</h1></centre>"
   ]
  },
  {
   "cell_type": "code",
   "execution_count": 18,
   "metadata": {},
   "outputs": [],
   "source": [
    "def pointFixe(g, x, eps, nbmax):\n",
    "    nb = 0\n",
    "    while(abs(g(x)-x) > eps and nbmax > nb):\n",
    "        nb = nb+1\n",
    "        x = g(x)\n",
    "    return x, nb\n"
   ]
  },
  {
   "cell_type": "code",
   "execution_count": 19,
   "metadata": {},
   "outputs": [],
   "source": [
    "import math\n",
    "import numpy as np\n",
    "\n",
    "\n",
    "def g(x):\n",
    "    return(np.cosh(x)+np.cos(x)-3)\n"
   ]
  },
  {
   "cell_type": "code",
   "execution_count": 20,
   "metadata": {},
   "outputs": [
    {
     "name": "stdout",
     "output_type": "stream",
     "text": [
      "(-0.9360068770705698, 15)\n"
     ]
    }
   ],
   "source": [
    "print(pointFixe(g, 1, 10e-10, 100))"
   ]
  },
  {
   "cell_type": "markdown",
   "metadata": {},
   "source": [
    "<centre><h1>Fonction prédéfinie</h1></centre>"
   ]
  },
  {
   "cell_type": "code",
   "execution_count": 21,
   "metadata": {},
   "outputs": [
    {
     "name": "stdout",
     "output_type": "stream",
     "text": [
      "[1.85792083]\n"
     ]
    }
   ],
   "source": [
    "import scipy.optimize\n",
    "sol = scipy.optimize.fsolve(g, 1)\n",
    "print(sol)"
   ]
  }
 ],
 "metadata": {
  "interpreter": {
   "hash": "3538452c4bba0c408730e56615d685ad5da58497f0f246475a966f0fdf309a5f"
  },
  "kernelspec": {
   "display_name": "Python 3.8.13 ('base')",
   "language": "python",
   "name": "python3"
  },
  "language_info": {
   "codemirror_mode": {
    "name": "ipython",
    "version": 3
   },
   "file_extension": ".py",
   "mimetype": "text/x-python",
   "name": "python",
   "nbconvert_exporter": "python",
   "pygments_lexer": "ipython3",
   "version": "3.8.13"
  },
  "orig_nbformat": 4
 },
 "nbformat": 4,
 "nbformat_minor": 2
}
