{
 "cells": [
  {
   "cell_type": "code",
   "execution_count": 12,
   "metadata": {},
   "outputs": [],
   "source": [
    "import numpy as np\n",
    "import matplotlib.pyplot as plt"
   ]
  },
  {
   "cell_type": "code",
   "execution_count": 9,
   "metadata": {},
   "outputs": [],
   "source": [
    "def f(x,gamma):\n",
    "    \n",
    "    return np.cosh(x)+np.cos(x)-gamma"
   ]
  },
  {
   "cell_type": "code",
   "execution_count": 28,
   "metadata": {},
   "outputs": [],
   "source": [
    "def fn(x):\n",
    "    \n",
    "    return np.cosh(x)+np.cos(x)-3"
   ]
  },
  {
   "cell_type": "code",
   "execution_count": 30,
   "metadata": {},
   "outputs": [
    {
     "name": "stdout",
     "output_type": "stream",
     "text": [
      "-0.9166170593166165\n"
     ]
    }
   ],
   "source": [
    "\n",
    "print(fn(1))"
   ]
  },
  {
   "cell_type": "code",
   "execution_count": 15,
   "metadata": {},
   "outputs": [
    {
     "data": {
      "image/png": "[encoded data removed]",
      "text/plain": [
       "<Figure size 432x288 with 1 Axes>"
      ]
     },
     "metadata": {
      "needs_background": "light"
     },
     "output_type": "display_data"
    }
   ],
   "source": [
    "x=np.linspace(1,3,100)\n",
    "plt.plot(x,f(x,1),color=\"r\")\n",
    "plt.plot(x,f(x,2),color=\"g\")\n",
    "plt.plot(x,f(x,3),color=\"b\")\n",
    "plt.axhline(0)\n",
    "plt.axvline(0)\n",
    "plt.show()"
   ]
  },
  {
   "cell_type": "code",
   "execution_count": 47,
   "metadata": {},
   "outputs": [],
   "source": [
    "import math\n",
    "def dicotomy(f,bornes,epsilon,nb_iter_max):\n",
    "    m=math.ceil(np.log((b-a)/n)/np.log(2))\n",
    "    currentf=0\n",
    "    lastf=0\n",
    "    diff=np.Infinity\n",
    "    i=0\n",
    "    a=bornes[0]\n",
    "    b=bornes[1]\n",
    "    c=0\n",
    "    print(epsilon)\n",
    "    while(i<nb_iter_max and epsilon<diff):\n",
    "        i+=1\n",
    "        c=(a+b)/2\n",
    "        lastf=currentf\n",
    "        k=f(a)*f(c)\n",
    "        if (k<0):\n",
    "            b=c\n",
    "        else:\n",
    "            k=f(b)*f(c)\n",
    "            a=c\n",
    "        currentf=k\n",
    "        diff=currentf-lastf\n",
    "        print(diff)\n",
    "    return (a,b,c)\n",
    "\n"
   ]
  },
  {
   "cell_type": "code",
   "execution_count": 52,
   "metadata": {},
   "outputs": [],
   "source": [
    "import math\n",
    "def dichotomie(f,a,b,n,max):\n",
    "    m=math.ceil(np.log2((b-a)/n))\n",
    "    if(f(a)*f(b)>0):\n",
    "        return \"pas de solution\"\n",
    "    for i in range(min(max,int(m))):\n",
    "        c=(a+b)/2\n",
    "        if (f(a)*f(c)<0):\n",
    "            b=c\n",
    "        else:\n",
    "            a=c\n",
    "    return c,i"
   ]
  },
  {
   "cell_type": "code",
   "execution_count": 53,
   "metadata": {},
   "outputs": [
    {
     "name": "stdout",
     "output_type": "stream",
     "text": [
      "(1.8579208291501983, 50)\n"
     ]
    }
   ],
   "source": [
    "print(dichotomie(fn,1,3,10**(-15),100))"
   ]
  },
  {
   "cell_type": "code",
   "execution_count": 67,
   "metadata": {},
   "outputs": [],
   "source": [
    "def newton(x,f,tol,maxit):\n",
    "    fp=lambda x:(f(x+tol)-f(x))/tol\n",
    "    i=0\n",
    "    while(abs(f(x))>tol and i<maxit):\n",
    "        x=x-(f(x)/fp(x))\n",
    "        i+=1\n",
    "    if(i>maxit):\n",
    "        return(\"diverge\")\n",
    "    return (x,i)"
   ]
  },
  {
   "cell_type": "code",
   "execution_count": 71,
   "metadata": {},
   "outputs": [
    {
     "data": {
      "text/plain": [
       "(1.8579208291501985, 15)"
      ]
     },
     "execution_count": 71,
     "metadata": {},
     "output_type": "execute_result"
    }
   ],
   "source": [
    "newton(1,fn,10**(-15),100)"
   ]
  },
  {
   "cell_type": "code",
   "execution_count": 86,
   "metadata": {},
   "outputs": [],
   "source": [
    "def fx(x):\n",
    "    return 2*x*np.exp(-(4*x+2))"
   ]
  },
  {
   "cell_type": "code",
   "execution_count": 92,
   "metadata": {},
   "outputs": [],
   "source": [
    "def lagrange(x,y,t):\n",
    "    l=[]\n",
    "    p=0\n",
    "    n=len(x)\n",
    "    for i in range(n):\n",
    "        for j in range(n):\n",
    "            if i!=j:\n",
    "                l.append((t-x[j])/(x[i]-x[j]))\n",
    "        p+=l[i]*y[i]\n",
    "    return p"
   ]
  },
  {
   "cell_type": "code",
   "execution_count": 93,
   "metadata": {},
   "outputs": [
    {
     "name": "stdout",
     "output_type": "stream",
     "text": [
      "0.017061579788804262\n"
     ]
    }
   ],
   "source": [
    "x=[0.2,1]\n",
    "y=[fx(0.2),fx(1)]\n",
    "print(lagrange(x,y,0.5))"
   ]
  }
 ],
 "metadata": {
  "interpreter": {
   "hash": "3538452c4bba0c408730e56615d685ad5da58497f0f246475a966f0fdf309a5f"
  },
  "kernelspec": {
   "display_name": "Python 3.8.13 ('base')",
   "language": "python",
   "name": "python3"
  },
  "language_info": {
   "codemirror_mode": {
    "name": "ipython",
    "version": 3
   },
   "file_extension": ".py",
   "mimetype": "text/x-python",
   "name": "python",
   "nbconvert_exporter": "python",
   "pygments_lexer": "ipython3",
   "version": "3.8.13"
  },
  "orig_nbformat": 4
 },
 "nbformat": 4,
 "nbformat_minor": 2
}
