{
 "cells": [
  {
   "cell_type": "code",
   "execution_count": 2,
   "metadata": {},
   "outputs": [],
   "source": [
    "import numpy as np\n",
    "import matplotlib.pyplot as plt\n",
    "\n",
    "plt.style.use('seaborn-poster')\n",
    "\n",
    "%matplotlib inline\n"
   ]
  },
  {
   "cell_type": "markdown",
   "metadata": {},
   "source": [
    "<h1>Newton </h1>"
   ]
  },
  {
   "cell_type": "code",
   "execution_count": 56,
   "metadata": {},
   "outputs": [],
   "source": [
    "def divided_diff(x, y):\n",
    "    n = len(y)\n",
    "    coef = np.zeros([n, n])\n",
    "    # the first column is y\n",
    "    coef[:,0] = y\n",
    "    for j in range(1,n):\n",
    "        for i in range(n-j):\n",
    "            coef[i][j] = (coef[i+1][j-1] - coef[i][j-1]) / (x[i+j]-x[i])\n",
    "        print(coef)\n",
    "        print(\"_______________________\")\n",
    "            \n",
    "    return coef\n",
    "\n",
    "def newton_poly(coef, x_data, x):\n",
    "\n",
    "    n = len(x_data) - 1 \n",
    "    p = coef[n]\n",
    "    for k in range(1,n+1):\n",
    "        p = coef[n-k] + (x -x_data[n-k])*p\n",
    "    return p"
   ]
  },
  {
   "cell_type": "code",
   "execution_count": 59,
   "metadata": {},
   "outputs": [
    {
     "name": "stdout",
     "output_type": "stream",
     "text": [
      "[[ 0.9463    -0.12775    0.         0.       ]\n",
      " [ 0.9974    -0.3146125  0.         0.       ]\n",
      " [ 0.74571   -0.795825   0.         0.       ]\n",
      " [ 0.42738    0.         0.         0.       ]]\n",
      "_______________________\n",
      "[[ 0.9463     -0.12775    -0.46715625  0.        ]\n",
      " [ 0.9974     -0.3146125  -0.40101042  0.        ]\n",
      " [ 0.74571    -0.795825    0.          0.        ]\n",
      " [ 0.42738     0.          0.          0.        ]]\n",
      "_______________________\n",
      "[[ 0.9463     -0.12775    -0.46715625  0.08268229]\n",
      " [ 0.9974     -0.3146125  -0.40101042  0.        ]\n",
      " [ 0.74571    -0.795825    0.          0.        ]\n",
      " [ 0.42738     0.          0.          0.        ]]\n",
      "_______________________\n",
      "[ 0.9463     -0.12775    -0.46715625  0.08268229]\n",
      "0.974329921875\n"
     ]
    }
   ],
   "source": [
    "x = np.array([1.9,1.5,2.3,2.7])\n",
    "y = np.array([0.94630,0.9974,0.74571,0.42738])\n",
    "# get the divided difference coef\n",
    "a_s = divided_diff(x, y)[0, :]\n",
    "print(a_s)\n",
    "# evaluate on new data points\n",
    "# x_new = np.arange(-5, 2.1, .1)\n",
    "y_new = newton_poly(a_s, x, 1.8)\n",
    "print(y_new)\n",
    "# plt.figure(figsize = (12, 8))\n",
    "# plt.plot(x, y, 'bo')\n",
    "# plt.plot(x_new, y_new)"
   ]
  },
  {
   "cell_type": "markdown",
   "metadata": {},
   "source": [
    "<h1>Jacobi </h1>"
   ]
  },
  {
   "cell_type": "code",
   "execution_count": 98,
   "metadata": {},
   "outputs": [],
   "source": [
    "def jacobi(a,b,x,e,maxiter):\n",
    "    iter=0\n",
    "    while(iter<maxiter and np.linalg.norm(a.dot(x)-b)>e):\n",
    "        for i in range(len(b)):\n",
    "            k=0\n",
    "            for j in range(len(b)):\n",
    "                if(i!=j):\n",
    "                    k+=a[i][j]*x[i]\n",
    "            \n",
    "            x[i]=(b[i]-k)/a[i][i]\n",
    "        iter+=1\n",
    "    return (x,iter,np.linalg.norm(a.dot(x)-b))"
   ]
  },
  {
   "cell_type": "code",
   "execution_count": 100,
   "metadata": {},
   "outputs": [
    {
     "name": "stdout",
     "output_type": "stream",
     "text": [
      "([0.99951171875, 0.0, 0.99951171875], 11, 2.447895087830144)\n"
     ]
    }
   ],
   "source": [
    "a=[\n",
    "    [2,-1,0],\n",
    "    [-1,2,-1],\n",
    "    [0,-1,2]\n",
    "]\n",
    "b=[1,0,1]\n",
    "x=[0,0,0]\n",
    "a=np.array(a)\n",
    "\n",
    "print(jacobi(a,b,x,10**-3,11))"
   ]
  },
  {
   "cell_type": "markdown",
   "metadata": {},
   "source": [
    "<h1>Gauss-Seidel</h1>"
   ]
  },
  {
   "cell_type": "code",
   "execution_count": null,
   "metadata": {},
   "outputs": [],
   "source": [
    "#saisie les données,\n",
    "n = int(input(\"Donner nombre des variables\"))\n",
    "epsilon = float(input(\"Donner l'epsilon\"))\n",
    "max_iteration=int(input(\"donner max nombre d'itération\"))\n",
    "a = []                            \n",
    "b = []\n",
    "x = []   \n",
    "for i in range(n):\n",
    "    l=[]\n",
    "    for j in range(n):\n",
    "        l.append(int(input(\"Donner A{}{}\".format(i+1,j+1))))\n",
    "    a.append(l)                            \n",
    "for i in range(n):\n",
    "    b.append(int(input(\"Donner b{}\".format(i+1))))\n",
    "    x.append(0)"
   ]
  },
  {
   "cell_type": "code",
   "execution_count": null,
   "metadata": {},
   "outputs": [],
   "source": [
    "def seidel(a, x ,b):\n",
    "    n = len(a)              \n",
    "    for j in range(n):        \n",
    "        d = b[j]                  \n",
    "        for i in range(n):     \n",
    "            if(j != i):\n",
    "                d-=a[j][i] * x[i]\n",
    "        x[j] = d / a[j][j]\n",
    "    return x    "
   ]
  },
  {
   "cell_type": "code",
   "execution_count": null,
   "metadata": {},
   "outputs": [],
   "source": [
    "import copy\n",
    "test=True\n",
    "x1=copy.copy(x)\n",
    "while test and max_iteration>0:\n",
    "    x = seidel(a, x, b)\n",
    "    #on va afficher le résultat pour chaque itération\n",
    "    print(x)\n",
    "    i=0\n",
    "    while(test and i<n):\n",
    "        if(abs(x1[i]-x[i])<=epsilon):\n",
    "            test=False\n",
    "            break\n",
    "        i=i+1\n",
    "    x1=copy.copy(x)\n",
    "    max_iteration-=1"
   ]
  },
  {
   "cell_type": "markdown",
   "metadata": {},
   "source": [
    "## Méthode Élimination de Gauss-Jordan\n",
    "### Data for testing</br>\n",
    "#### Input</br>\n",
    "+ n=3</br>\n",
    "+ a = [\n",
    "    + [4, 8, 12], </br>\n",
    "    + [3, 8, 13], </br>\n",
    "    + [2, 9, 18]</br>\n",
    "    ]</br>\n",
    "+ b = [4, 5, 11]</br>\n",
    "#### Output</br>\n",
    "+ x1 = 1</br>\n",
    "+ x2 = -3</br>\n",
    "+ x3 = 2</br>"
   ]
  },
  {
   "cell_type": "code",
   "execution_count": null,
   "metadata": {},
   "outputs": [],
   "source": [
    "class gauss:\n",
    "    def __init__(self, n):\n",
    "        self.n = n\n",
    "        self.x = []\n",
    "        self.a = []\n",
    "        self.b = []\n",
    "\n",
    "    def X(self):\n",
    "        l = []\n",
    "        for i in range(self.n):\n",
    "            l.append(\"x\"+str(i+1))\n",
    "        self.x = (l)\n",
    "\n",
    "    def input(self):\n",
    "        self.X()\n",
    "        # uncomment for input \n",
    "        # for i in range(self.n):\n",
    "        #     l = []\n",
    "        #     for j in range(self.n):\n",
    "        #         l.append(int(input(\"Donner A{}{}\".format(i+1, j+1))))\n",
    "        #     self.a.append(l)\n",
    "        # l = []\n",
    "        # for i in range(self.n):\n",
    "        #     l.append(int(input(\"Donner B1{}\".format(i+1))))\n",
    "        # self.b = l\n",
    "        # data for testing\n",
    "        self.a = [[4, 8, 12], [3, 8, 13], [2, 9, 18]]\n",
    "        self.b = [4, 5, 11]\n",
    "        for i in range(self.n):\n",
    "            print(\"{} {} = {}\".format(self.a[i], self.x[i], self.b[i]))\n",
    "\n",
    "    def gauss(self):\n",
    "        n = self.n\n",
    "        for k in range(n-1):\n",
    "            for i in range(k+1,n):\n",
    "                p=self.a[i][k]/self.a[k][k]\n",
    "                for j in range(k,n):\n",
    "                    self.a[i][j]=self.a[i][j]-p*self.a[k][j]\n",
    "                self.b[i]=self.b[i]-p*self.b[k]\n",
    "        for i in range(n): \n",
    "            self.b[i]=self.b[i]/self.a[i][i]\n",
    "            for j in range(n-1,i-1,-1):\n",
    "                self.a[i][j]=self.a[i][j]/self.a[i][i]\n",
    "        for i in range(self.n):\n",
    "            print(\"{} {} = {}\".format(self.a[i], self.x[i], self.b[i]))"
   ]
  },
  {
   "cell_type": "code",
   "execution_count": null,
   "metadata": {},
   "outputs": [],
   "source": [
    "def resolution(self):\n",
    "        n = self.n\n",
    "        self.x[n-1]=self.b[n-1] / self.a[n-1][n-1]\n",
    "        for i in range(n-2,-1,-1):\n",
    "            s=self.b[i]\n",
    "            for j in range(i+1,n):\n",
    "                s-=self.a[i][j]*self.x[j]\n",
    "            self.x[i]=s/self.a[i][i]"
   ]
  },
  {
   "cell_type": "code",
   "execution_count": null,
   "metadata": {},
   "outputs": [],
   "source": [
    "def output(self):\n",
    "        print(\"Resolution\")\n",
    "        for i in range(self.n):\n",
    "            print(\"{} {} = {}\".format(self.a[i],self.x[i],self.b[i]))"
   ]
  },
  {
   "cell_type": "code",
   "execution_count": null,
   "metadata": {},
   "outputs": [],
   "source": [
    "#main\n",
    "# n = int(input(\"donner n\"))\n",
    "n=3\n",
    "c = gauss(n)\n",
    "c.input()\n",
    "c.gauss()\n",
    "c.resolution()\n",
    "c.output()"
   ]
  },
  {
   "cell_type": "markdown",
   "metadata": {},
   "source": [
    "## Méthode de Crout\n",
    "#### Décomposition LU"
   ]
  },
  {
   "cell_type": "code",
   "execution_count": null,
   "metadata": {},
   "outputs": [],
   "source": [
    "class crout:\n",
    "    def __init__(self, n):\n",
    "        self.n = n\n",
    "        self.a = []\n",
    "\n",
    "    def input(self):\n",
    "        # uncomment for input \n",
    "        # for i in range(self.n):\n",
    "        #     l = []\n",
    "        #     for j in range(self.n):\n",
    "        #         l.append(int(input(\"Donner A{}{}\".format(i+1, j+1))))\n",
    "        #     self.a.append(l)\n",
    "        # l = []\n",
    "\n",
    "        # data for testing\n",
    "        self.a = [[4, 8, 12], [3, 8, 13], [2, 9, 18]]\n",
    "        for i in range(self.n):\n",
    "            print(\"{}\".format(self.a[i]))\n",
    "    def crout(self):\n",
    "        n=self.n\n",
    "        for i in range(1,n):\n",
    "            self.a[0][i]=self.a[0][i]/self.a[0][0]\n",
    "        for k in range(1,n-1):\n",
    "            self.a[k][k]=self.a[k][k]-sum([self.a[k][j]*self.a[j][k] for j in range(k)])\n",
    "            for i in range(k+1,n):\n",
    "                self.a[i][k]=self.a[i][k]-sum([self.a[i][j]*self.a[j][k] for j in range(k)])\n",
    "                self.a[k][i]=1/self.a[k][k]*(self.a[k][i]-sum([self.a[k][j]*self.a[j][i] for j in range(k)]))\n",
    "        self.a[n-1][n-1]=self.a[n-1][n-1]-sum([self.a[n-1][j]*self.a[j][n-1] for j in range(n-1)])\n",
    "    def output(self):\n",
    "        print(\"Result \")\n",
    "        for i in range(self.n):\n",
    "            print(\"{}\".format(self.a[i]))"
   ]
  },
  {
   "cell_type": "code",
   "execution_count": null,
   "metadata": {},
   "outputs": [],
   "source": [
    "#main\n",
    "# n = int(input(\"donner n\"))\n",
    "n=3\n",
    "c = crout(n)\n",
    "c.input()\n",
    "c.crout()\n",
    "c.output()"
   ]
  }
 ],
 "metadata": {
  "interpreter": {
   "hash": "9e715bcde5d81939087dc96da267ab20a04f10df86238323722a87950c38258c"
  },
  "kernelspec": {
   "display_name": "Python 3.8.6 64-bit",
   "language": "python",
   "name": "python3"
  },
  "language_info": {
   "codemirror_mode": {
    "name": "ipython",
    "version": 3
   },
   "file_extension": ".py",
   "mimetype": "text/x-python",
   "name": "python",
   "nbconvert_exporter": "python",
   "pygments_lexer": "ipython3",
   "version": "3.8.13"
  },
  "orig_nbformat": 4
 },
 "nbformat": 4,
 "nbformat_minor": 2
}
